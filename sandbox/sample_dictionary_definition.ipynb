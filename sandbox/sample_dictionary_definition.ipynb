{
 "cells": [
  {
   "cell_type": "code",
   "execution_count": null,
   "metadata": {
    "collapsed": true
   },
   "outputs": [],
   "source": [
    "import numpy as np"
   ]
  },
  {
   "cell_type": "markdown",
   "metadata": {},
   "source": [
    "# Dictionary type 1"
   ]
  },
  {
   "cell_type": "code",
   "execution_count": null,
   "metadata": {
    "collapsed": false
   },
   "outputs": [],
   "source": [
    "names = [\"jets\",\"muons\",\"electrons\",\"photons\",\"met\"]\n",
    "nobjs = [5, 6, 2, 3, 1]\n",
    "nvals = [5, 5, 5, 4, 2]\n",
    "objects = [ [], [], [], [], []]\n",
    "\n",
    "\n",
    "for name,nobj,nval,obj in zip(names, nobjs, nvals, objects):\n",
    "    for i in range(nobj):\n",
    "        vals = 100*np.random.random(nval)\n",
    "        obj.append(vals)"
   ]
  },
  {
   "cell_type": "code",
   "execution_count": null,
   "metadata": {
    "collapsed": false
   },
   "outputs": [],
   "source": [
    "event= {}\n",
    "for name,obj in zip(names, objects):\n",
    "    event[name] = obj"
   ]
  },
  {
   "cell_type": "code",
   "execution_count": null,
   "metadata": {
    "collapsed": false
   },
   "outputs": [],
   "source": [
    "event"
   ]
  },
  {
   "cell_type": "code",
   "execution_count": null,
   "metadata": {
    "collapsed": false
   },
   "outputs": [],
   "source": [
    "electrons = event['electrons']"
   ]
  },
  {
   "cell_type": "code",
   "execution_count": null,
   "metadata": {
    "collapsed": false
   },
   "outputs": [],
   "source": [
    "for e in electrons:\n",
    "    print e"
   ]
  },
  {
   "cell_type": "markdown",
   "metadata": {},
   "source": [
    "# Dictionary type 2"
   ]
  },
  {
   "cell_type": "code",
   "execution_count": null,
   "metadata": {
    "collapsed": false
   },
   "outputs": [],
   "source": [
    "names = [\"jets\",\"muons\",\"electrons\",\"photons\",\"met\"]\n",
    "nobjs = [5, 6, 2, 3, 1]\n",
    "nvals = [5, 5, 5, 4, 2]\n",
    "objects = [ [], [], [], [], []]\n",
    "attributes = [[\"E\",\"px\",\"py\",\"pz\",\"btag\"],\n",
    "              [\"E\",\"px\",\"py\",\"pz\",\"q\"],\n",
    "              [\"E\",\"px\",\"py\",\"pz\",\"q\"],\n",
    "              [\"E\",\"px\",\"py\",\"pz\"],\n",
    "              [\"px\",\"py\"]]\n",
    "\n",
    "\n",
    "for name,nobj,nval,obj,attribute in zip(names, nobjs, nvals, objects,attributes):\n",
    "    for i in range(nobj):\n",
    "        vals = 100*np.random.random(nval)\n",
    "        particle = {}\n",
    "        for v,a in zip(vals,attribute):\n",
    "            particle[a] = v\n",
    "        obj.append(particle)\n",
    "        "
   ]
  },
  {
   "cell_type": "code",
   "execution_count": null,
   "metadata": {
    "collapsed": true
   },
   "outputs": [],
   "source": [
    "event2 = {}\n",
    "for name,obj in zip(names, objects):\n",
    "    event2[name] = obj"
   ]
  },
  {
   "cell_type": "code",
   "execution_count": null,
   "metadata": {
    "collapsed": false
   },
   "outputs": [],
   "source": [
    "event2"
   ]
  },
  {
   "cell_type": "code",
   "execution_count": null,
   "metadata": {
    "collapsed": false
   },
   "outputs": [],
   "source": [
    "electrons = event2[\"electrons\"]"
   ]
  },
  {
   "cell_type": "code",
   "execution_count": null,
   "metadata": {
    "collapsed": false
   },
   "outputs": [],
   "source": [
    "for e in electrons:\n",
    "    #print e\n",
    "    print e[\"px\"], e[\"py\"]"
   ]
  },
  {
   "cell_type": "code",
   "execution_count": null,
   "metadata": {
    "collapsed": true
   },
   "outputs": [],
   "source": []
  }
 ],
 "metadata": {
  "anaconda-cloud": {},
  "kernelspec": {
   "display_name": "Python [default]",
   "language": "python",
   "name": "python2"
  },
  "language_info": {
   "codemirror_mode": {
    "name": "ipython",
    "version": 2
   },
   "file_extension": ".py",
   "mimetype": "text/x-python",
   "name": "python",
   "nbconvert_exporter": "python",
   "pygments_lexer": "ipython2",
   "version": "2.7.12"
  }
 },
 "nbformat": 4,
 "nbformat_minor": 1
}
