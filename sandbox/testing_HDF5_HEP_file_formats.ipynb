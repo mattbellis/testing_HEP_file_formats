{
 "cells": [
  {
   "cell_type": "code",
   "execution_count": 2,
   "metadata": {
    "collapsed": false
   },
   "outputs": [],
   "source": [
    "import h5py as hp\n",
    "import numpy as np\n",
    "import sys\n",
    "sys.path.append(\"tools/\")\n",
    "import cms_tools as cms\n",
    "\n",
    "import os\n",
    "\n",
    "filename = 'test4.hdf5'\n",
    "if os.path.isfile(filename):\n",
    "    os.remove(filename)\n",
    "\n",
    "datafile =  hp.File(\"test4.hdf5\", \"w\")  #Creates a HD5F file\n",
    "#dataset = datafile.create_dataset(\"mydataset\", (100,), dtype='i') #Creates a dataset within the file\n",
    "#dataset2 = datafile.create_dataset(\"mydataset2\", (100,), dtype = 'i')"
   ]
  },
  {
   "cell_type": "code",
   "execution_count": 3,
   "metadata": {
    "collapsed": true
   },
   "outputs": [],
   "source": [
    "#datafile.close()"
   ]
  },
  {
   "cell_type": "code",
   "execution_count": 4,
   "metadata": {
    "collapsed": false
   },
   "outputs": [],
   "source": [
    "jets = datafile.create_group(\"Jets\")\n",
    "muons = datafile.create_group(\"Muons\")\n",
    "electrons = datafile.create_group(\"Electrons\")\n",
    "photons = datafile.create_group(\"Photons\")\n",
    "met = datafile.create_group(\"MET\")"
   ]
  },
  {
   "cell_type": "code",
   "execution_count": 6,
   "metadata": {
    "collapsed": false
   },
   "outputs": [],
   "source": [
    "infile = open('data/small_cms_test_file.dat')\n",
    "collisions = cms.get_collisions(infile)\n",
    "numColl = len(collisions)"
   ]
  },
  {
   "cell_type": "code",
   "execution_count": 7,
   "metadata": {
    "collapsed": false
   },
   "outputs": [],
   "source": [
    "nJets = datafile.create_dataset('Jets/nJets', (numColl,), dtype='i')\n",
    "nMuons = datafile.create_dataset('Muons/nMuons', (numColl,), dtype='i')\n",
    "nElectrons = datafile.create_dataset('Electrons/nElectrons', (numColl,), dtype='i')\n",
    "nPhotons = datafile.create_dataset('Photons/nPhotons', (numColl,), dtype='i')"
   ]
  },
  {
   "cell_type": "code",
   "execution_count": 8,
   "metadata": {
    "collapsed": false
   },
   "outputs": [],
   "source": [
    "for i in range(0,10):\n",
    "    nJets[i] = len(collisions[i][0])\n",
    "    nMuons[i] = len(collisions[i][1])\n",
    "    nElectrons[i] = len(collisions[i][2])\n",
    "    nPhotons[i] = len(collisions[i][3])"
   ]
  },
  {
   "cell_type": "code",
   "execution_count": null,
   "metadata": {
    "collapsed": false
   },
   "outputs": [],
   "source": [
    "totnJets = totalSum(nJets)\n",
    "jetE = datafile.create_dataset('Jets/JetsEnergy', (totnJets,), dtype='f')\n"
   ]
  },
  {
   "cell_type": "code",
   "execution_count": null,
   "metadata": {
    "collapsed": true
   },
   "outputs": [],
   "source": [
    "#######totalSum Function##########\n",
    "#Returns the total needed size of a dataset based on total number of particles in events\n",
    "f =6\n",
    "def totalSum (A):\n",
    "    f+=6\n",
    "    Sum = 0;\n",
    "    for i in range(0, A.size):\n",
    "        Sum += A[i]\n",
    "    return Sum"
   ]
  },
  {
   "cell_type": "code",
   "execution_count": null,
   "metadata": {
    "collapsed": false
   },
   "outputs": [],
   "source": [
    "########Loader Function#############\n",
    "#Loads data from collisions array into a specific data set\n",
    "##PARAMETERS##\n",
    "#dataset - the dataset you want to load into\n",
    "#particle - the particle you are targeting:\n",
    "                                        # 0 - Jets\n",
    "                                        # 1 - Muons\n",
    "                                        # 2 - Electrons\n",
    "                                        # 3 - Photons\n",
    "#data - the data you are loading:\n",
    "                                # 0 - Energy\n",
    "                                # 1 - px\n",
    "                                # 2 - py\n",
    "                                # 3 - pz\n",
    "                                # 4 - btag/q\n",
    "\n",
    "def loader(particle, data):\n",
    "    temp = []\n",
    "    for i in range (0,numColl):\n",
    "        nColl = len(collisions[i][particle])\n",
    "        for k in range(0, nColl):\n",
    "            temp.append(collisions[i][particle][k][data])\n",
    "   \n",
    "    return temp"
   ]
  },
  {
   "cell_type": "code",
   "execution_count": null,
   "metadata": {
    "collapsed": false
   },
   "outputs": [],
   "source": [
    "len(loader( 0, 3))"
   ]
  },
  {
   "cell_type": "code",
   "execution_count": null,
   "metadata": {
    "collapsed": false
   },
   "outputs": [],
   "source": [
    "jetEnergies = datafile.create_dataset('Jets/Energy', data = loader(0,0))"
   ]
  },
  {
   "cell_type": "code",
   "execution_count": null,
   "metadata": {
    "collapsed": false
   },
   "outputs": [],
   "source": [
    "jetEnergies.size"
   ]
  },
  {
   "cell_type": "code",
   "execution_count": null,
   "metadata": {
    "collapsed": false
   },
   "outputs": [],
   "source": [
    "jetEnergies[0]"
   ]
  },
  {
   "cell_type": "code",
   "execution_count": null,
   "metadata": {
    "collapsed": false
   },
   "outputs": [],
   "source": [
    "####Loader method worked, now to load the rest of the data\n",
    "######JETS#######\n",
    "jetEnergies = datafile.create_dataset('Jets/Energy', data = loader(0,0))\n",
    "jetPx = datafile.create_dataset('Jets/PX', data = loader(0,1))\n",
    "jetPy = datafile.create_dataset('Jets/PY', data = loader(0,2))\n",
    "jetPy = datafile.create_dataset('Jets/PZ', data = loader(0,3))\n",
    "jetBtag = datafile.create_dataset('Jets/bTag', data = loader(0,4))\n",
    "#####MUONS########\n",
    "MuonEnergies = datafile.create_dataset('Muons/Energy', data = loader(1,0))\n",
    "MuonsPx = datafile.create_dataset('Muons/PX', data = loader(1,1))\n",
    "MuonsPy = datafile.create_dataset('Muons/PY', data = loader(1,2))\n",
    "MuonsPy = datafile.create_dataset('Muons/PZ', data = loader(1,3))\n",
    "MuonsQ = datafile.create_dataset('Muons/Q', data = loader(1,4))\n",
    "#####ELECTRONS####\n",
    "ElecEnergies = datafile.create_dataset('Electrons/Energy', data = loader(2,0))\n",
    "ElecPx = datafile.create_dataset('Electrons/PX', data = loader(2,1))\n",
    "ElecPy = datafile.create_dataset('Electrons/PY', data = loader(2,2))\n",
    "ElecPy = datafile.create_dataset('Electrons/PZ', data = loader(2,3))\n",
    "ElecQ = datafile.create_dataset('Electrons/Q', data = loader(2,4))\n",
    "#####PHOTONS######\n",
    "PhoEnergies = datafile.create_dataset('Photons/Energy', data = loader(3,0))\n",
    "PhoPx = datafile.create_dataset('Photons/PX', data = loader(3,1))\n",
    "PhoPy = datafile.create_dataset('Photons/PY', data = loader(3,2))\n",
    "PhoPy = datafile.create_dataset('Photons/PZ', data = loader(3,3))\n",
    "\n",
    "datafile.close()"
   ]
  },
  {
   "cell_type": "code",
   "execution_count": null,
   "metadata": {
    "collapsed": false
   },
   "outputs": [],
   "source": [
    "print collisions[0][0][0][0]\n",
    "jetEnergies[0]"
   ]
  },
  {
   "cell_type": "code",
   "execution_count": null,
   "metadata": {
    "collapsed": true
   },
   "outputs": [],
   "source": []
  },
  {
   "cell_type": "code",
   "execution_count": null,
   "metadata": {
    "collapsed": false
   },
   "outputs": [],
   "source": [
    "def getData(collision, particle):\n",
    "    if(particle = 'jet'):\n",
    "        for i in range(0, nJets[collision]):\n",
    "            "
   ]
  },
  {
   "cell_type": "code",
   "execution_count": null,
   "metadata": {
    "collapsed": true
   },
   "outputs": [],
   "source": []
  }
 ],
 "metadata": {
  "kernelspec": {
   "display_name": "Python [default]",
   "language": "python",
   "name": "python2"
  },
  "language_info": {
   "codemirror_mode": {
    "name": "ipython",
    "version": 2
   },
   "file_extension": ".py",
   "mimetype": "text/x-python",
   "name": "python",
   "nbconvert_exporter": "python",
   "pygments_lexer": "ipython2",
   "version": "2.7.12"
  }
 },
 "nbformat": 4,
 "nbformat_minor": 2
}
