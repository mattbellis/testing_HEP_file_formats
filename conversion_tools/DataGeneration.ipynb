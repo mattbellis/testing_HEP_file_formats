{
 "cells": [
  {
   "cell_type": "code",
   "execution_count": null,
   "metadata": {},
   "outputs": [],
   "source": [
    "infile = open(\"generatedData_100k.txt\",\"w\")\n",
    "import random as rand\n",
    "\n",
    "numEvents = 100000\n",
    "maxPar = 4\n",
    "\n",
    "for i in range(0,numEvents):\n",
    "    output = \"Event: \"+str(i)+ \"\\n\"\n",
    "    nJets = rand.randint(0,maxPar)\n",
    "    output += str(nJets)+\"\\n\"\n",
    "    for k in range(0,nJets):\n",
    "        output += str(rand.random()*80)+ \" \"\n",
    "        output += str(rand.random()*80)+ \" \"\n",
    "        output += str(rand.random()*80)+ \" \"\n",
    "        output += str(rand.random()*80)+ \" \"\n",
    "        output += str(rand.randint(-1,0)+rand.randint(0,1))\n",
    "        output += \"\\n\"\n",
    "    nJets = rand.randint(0,maxPar)\n",
    "    output += str(nJets)+\"\\n\"\n",
    "    for k in range(0,nJets):\n",
    "        output += str(rand.random()*80)+ \" \"\n",
    "        output += str(rand.random()*80)+ \" \"\n",
    "        output += str(rand.random()*80)+ \" \"\n",
    "        output += str(rand.random()*80)+ \" \"\n",
    "        output += str(rand.randint(-1,0)+rand.randint(0,1))\n",
    "        output += \"\\n\"\n",
    "    nJets = rand.randint(0,maxPar)\n",
    "    output += str(nJets)+\"\\n\"\n",
    "    for k in range(0,nJets):\n",
    "        output += str(rand.random()*80)+ \" \"\n",
    "        output += str(rand.random()*80)+ \" \"\n",
    "        output += str(rand.random()*80)+ \" \"\n",
    "        output += str(rand.random()*80)+ \" \"\n",
    "        output += str(rand.randint(-1,0)+rand.randint(0,1))\n",
    "        output += \"\\n\"\n",
    "    nJets = rand.randint(0,maxPar)\n",
    "    output += str(nJets)+\"\\n\"\n",
    "    for k in range(0,nJets):\n",
    "        output += str(rand.random()*80)+ \" \"\n",
    "        output += str(rand.random()*80)+ \" \"\n",
    "        output += str(rand.random()*80)+ \" \"\n",
    "        output += str(rand.random()*80)\n",
    "        output += \"\\n\"\n",
    "    output += str(rand.random()*12) +\" \"+ str(rand.random()*12)+\"\\n\" \n",
    "    \n",
    "    infile.write(output)\n",
    "    \n",
    "infile.close()\n",
    "    "
   ]
  },
  {
   "cell_type": "code",
   "execution_count": null,
   "metadata": {
    "collapsed": true
   },
   "outputs": [],
   "source": []
  }
 ],
 "metadata": {
  "kernelspec": {
   "display_name": "Python 3",
   "language": "python",
   "name": "python3"
  },
  "language_info": {
   "codemirror_mode": {
    "name": "ipython",
    "version": 3
   },
   "file_extension": ".py",
   "mimetype": "text/x-python",
   "name": "python",
   "nbconvert_exporter": "python",
   "pygments_lexer": "ipython3",
   "version": "3.6.0"
  }
 },
 "nbformat": 4,
 "nbformat_minor": 2
}
